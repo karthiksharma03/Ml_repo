{
 "cells": [
  {
   "cell_type": "markdown",
   "id": "8cc7a205",
   "metadata": {},
   "source": [
    "# Linear Regeression\n"
   ]
  },
  {
   "cell_type": "code",
   "execution_count": 23,
   "id": "fb5eadc7",
   "metadata": {},
   "outputs": [],
   "source": [
    "#importing the libraries\n",
    "import pandas as pd\n",
    "import numpy as np\n",
    "import matplotlib.pyplot as plt\n",
    "import seaborn as sns"
   ]
  },
  {
   "cell_type": "code",
   "execution_count": 24,
   "id": "4d4d5cfb",
   "metadata": {},
   "outputs": [],
   "source": [
    "df=pd.read_csv('Football.csv')\n",
    "pd.set_option('display.max_columns',None)\n"
   ]
  },
  {
   "cell_type": "code",
   "execution_count": 25,
   "id": "24ca3a82",
   "metadata": {
    "scrolled": true
   },
   "outputs": [
    {
     "data": {
      "text/html": [
       "<div>\n",
       "<style scoped>\n",
       "    .dataframe tbody tr th:only-of-type {\n",
       "        vertical-align: middle;\n",
       "    }\n",
       "\n",
       "    .dataframe tbody tr th {\n",
       "        vertical-align: top;\n",
       "    }\n",
       "\n",
       "    .dataframe thead th {\n",
       "        text-align: right;\n",
       "    }\n",
       "</style>\n",
       "<table border=\"1\" class=\"dataframe\">\n",
       "  <thead>\n",
       "    <tr style=\"text-align: right;\">\n",
       "      <th></th>\n",
       "      <th>date</th>\n",
       "      <th>home_team</th>\n",
       "      <th>away_team</th>\n",
       "      <th>home_score</th>\n",
       "      <th>away_score</th>\n",
       "      <th>tournament</th>\n",
       "    </tr>\n",
       "  </thead>\n",
       "  <tbody>\n",
       "    <tr>\n",
       "      <th>0</th>\n",
       "      <td>1/2/2010</td>\n",
       "      <td>Qatar</td>\n",
       "      <td>Mali</td>\n",
       "      <td>0</td>\n",
       "      <td>0</td>\n",
       "      <td>Friendly</td>\n",
       "    </tr>\n",
       "    <tr>\n",
       "      <th>1</th>\n",
       "      <td>1/2/2010</td>\n",
       "      <td>Syria</td>\n",
       "      <td>Zimbabwe</td>\n",
       "      <td>6</td>\n",
       "      <td>0</td>\n",
       "      <td>Friendly</td>\n",
       "    </tr>\n",
       "    <tr>\n",
       "      <th>2</th>\n",
       "      <td>1/3/2010</td>\n",
       "      <td>Angola</td>\n",
       "      <td>Gambia</td>\n",
       "      <td>1</td>\n",
       "      <td>1</td>\n",
       "      <td>Friendly</td>\n",
       "    </tr>\n",
       "    <tr>\n",
       "      <th>3</th>\n",
       "      <td>1/4/2010</td>\n",
       "      <td>Egypt</td>\n",
       "      <td>Mali</td>\n",
       "      <td>1</td>\n",
       "      <td>0</td>\n",
       "      <td>Friendly</td>\n",
       "    </tr>\n",
       "    <tr>\n",
       "      <th>4</th>\n",
       "      <td>1/4/2010</td>\n",
       "      <td>Tanzania</td>\n",
       "      <td>Ivory Coast</td>\n",
       "      <td>0</td>\n",
       "      <td>1</td>\n",
       "      <td>Friendly</td>\n",
       "    </tr>\n",
       "  </tbody>\n",
       "</table>\n",
       "</div>"
      ],
      "text/plain": [
       "       date home_team    away_team  home_score  away_score tournament\n",
       "0  1/2/2010     Qatar         Mali           0           0   Friendly\n",
       "1  1/2/2010     Syria     Zimbabwe           6           0   Friendly\n",
       "2  1/3/2010    Angola       Gambia           1           1   Friendly\n",
       "3  1/4/2010     Egypt         Mali           1           0   Friendly\n",
       "4  1/4/2010  Tanzania  Ivory Coast           0           1   Friendly"
      ]
     },
     "execution_count": 25,
     "metadata": {},
     "output_type": "execute_result"
    }
   ],
   "source": [
    "df.head()"
   ]
  },
  {
   "cell_type": "code",
   "execution_count": 26,
   "id": "f886064f",
   "metadata": {},
   "outputs": [
    {
     "data": {
      "text/html": [
       "<div>\n",
       "<style scoped>\n",
       "    .dataframe tbody tr th:only-of-type {\n",
       "        vertical-align: middle;\n",
       "    }\n",
       "\n",
       "    .dataframe tbody tr th {\n",
       "        vertical-align: top;\n",
       "    }\n",
       "\n",
       "    .dataframe thead th {\n",
       "        text-align: right;\n",
       "    }\n",
       "</style>\n",
       "<table border=\"1\" class=\"dataframe\">\n",
       "  <thead>\n",
       "    <tr style=\"text-align: right;\">\n",
       "      <th></th>\n",
       "      <th>date</th>\n",
       "      <th>home_team</th>\n",
       "      <th>away_team</th>\n",
       "      <th>home_score</th>\n",
       "      <th>away_score</th>\n",
       "      <th>tournament</th>\n",
       "    </tr>\n",
       "  </thead>\n",
       "  <tbody>\n",
       "    <tr>\n",
       "      <th>8292</th>\n",
       "      <td>1/10/2024</td>\n",
       "      <td>Bahrain</td>\n",
       "      <td>Angola</td>\n",
       "      <td>0</td>\n",
       "      <td>3</td>\n",
       "      <td>Friendly</td>\n",
       "    </tr>\n",
       "    <tr>\n",
       "      <th>8293</th>\n",
       "      <td>1/10/2024</td>\n",
       "      <td>DR Congo</td>\n",
       "      <td>Burkina Faso</td>\n",
       "      <td>1</td>\n",
       "      <td>2</td>\n",
       "      <td>Friendly</td>\n",
       "    </tr>\n",
       "    <tr>\n",
       "      <th>8294</th>\n",
       "      <td>1/10/2024</td>\n",
       "      <td>Tunisia</td>\n",
       "      <td>Cape Verde</td>\n",
       "      <td>2</td>\n",
       "      <td>0</td>\n",
       "      <td>Friendly</td>\n",
       "    </tr>\n",
       "    <tr>\n",
       "      <th>8295</th>\n",
       "      <td>1/10/2024</td>\n",
       "      <td>South Africa</td>\n",
       "      <td>Lesotho</td>\n",
       "      <td>0</td>\n",
       "      <td>0</td>\n",
       "      <td>Friendly</td>\n",
       "    </tr>\n",
       "    <tr>\n",
       "      <th>8296</th>\n",
       "      <td>1/11/2024</td>\n",
       "      <td>Morocco</td>\n",
       "      <td>Sierra Leone</td>\n",
       "      <td>3</td>\n",
       "      <td>1</td>\n",
       "      <td>Friendly</td>\n",
       "    </tr>\n",
       "  </tbody>\n",
       "</table>\n",
       "</div>"
      ],
      "text/plain": [
       "           date     home_team     away_team  home_score  away_score tournament\n",
       "8292  1/10/2024       Bahrain        Angola           0           3   Friendly\n",
       "8293  1/10/2024      DR Congo  Burkina Faso           1           2   Friendly\n",
       "8294  1/10/2024       Tunisia    Cape Verde           2           0   Friendly\n",
       "8295  1/10/2024  South Africa       Lesotho           0           0   Friendly\n",
       "8296  1/11/2024       Morocco  Sierra Leone           3           1   Friendly"
      ]
     },
     "execution_count": 26,
     "metadata": {},
     "output_type": "execute_result"
    }
   ],
   "source": [
    "df.tail()"
   ]
  },
  {
   "cell_type": "code",
   "execution_count": 27,
   "id": "b8b518ae",
   "metadata": {},
   "outputs": [
    {
     "data": {
      "text/plain": [
       "(8297, 6)"
      ]
     },
     "execution_count": 27,
     "metadata": {},
     "output_type": "execute_result"
    }
   ],
   "source": [
    "df.shape"
   ]
  },
  {
   "cell_type": "code",
   "execution_count": 28,
   "id": "8bc6d066",
   "metadata": {},
   "outputs": [
    {
     "data": {
      "text/plain": [
       "['date', 'home_team', 'away_team', 'home_score', 'away_score', 'tournament']"
      ]
     },
     "execution_count": 28,
     "metadata": {},
     "output_type": "execute_result"
    }
   ],
   "source": [
    "list(df.columns)"
   ]
  },
  {
   "cell_type": "code",
   "execution_count": 29,
   "id": "8a13d6c3",
   "metadata": {},
   "outputs": [
    {
     "data": {
      "text/html": [
       "<div>\n",
       "<style scoped>\n",
       "    .dataframe tbody tr th:only-of-type {\n",
       "        vertical-align: middle;\n",
       "    }\n",
       "\n",
       "    .dataframe tbody tr th {\n",
       "        vertical-align: top;\n",
       "    }\n",
       "\n",
       "    .dataframe thead th {\n",
       "        text-align: right;\n",
       "    }\n",
       "</style>\n",
       "<table border=\"1\" class=\"dataframe\">\n",
       "  <thead>\n",
       "    <tr style=\"text-align: right;\">\n",
       "      <th></th>\n",
       "      <th>home_score</th>\n",
       "      <th>away_score</th>\n",
       "    </tr>\n",
       "  </thead>\n",
       "  <tbody>\n",
       "    <tr>\n",
       "      <th>0</th>\n",
       "      <td>0</td>\n",
       "      <td>0</td>\n",
       "    </tr>\n",
       "    <tr>\n",
       "      <th>1</th>\n",
       "      <td>6</td>\n",
       "      <td>0</td>\n",
       "    </tr>\n",
       "    <tr>\n",
       "      <th>2</th>\n",
       "      <td>1</td>\n",
       "      <td>1</td>\n",
       "    </tr>\n",
       "    <tr>\n",
       "      <th>3</th>\n",
       "      <td>1</td>\n",
       "      <td>0</td>\n",
       "    </tr>\n",
       "    <tr>\n",
       "      <th>4</th>\n",
       "      <td>0</td>\n",
       "      <td>1</td>\n",
       "    </tr>\n",
       "    <tr>\n",
       "      <th>...</th>\n",
       "      <td>...</td>\n",
       "      <td>...</td>\n",
       "    </tr>\n",
       "    <tr>\n",
       "      <th>8292</th>\n",
       "      <td>0</td>\n",
       "      <td>3</td>\n",
       "    </tr>\n",
       "    <tr>\n",
       "      <th>8293</th>\n",
       "      <td>1</td>\n",
       "      <td>2</td>\n",
       "    </tr>\n",
       "    <tr>\n",
       "      <th>8294</th>\n",
       "      <td>2</td>\n",
       "      <td>0</td>\n",
       "    </tr>\n",
       "    <tr>\n",
       "      <th>8295</th>\n",
       "      <td>0</td>\n",
       "      <td>0</td>\n",
       "    </tr>\n",
       "    <tr>\n",
       "      <th>8296</th>\n",
       "      <td>3</td>\n",
       "      <td>1</td>\n",
       "    </tr>\n",
       "  </tbody>\n",
       "</table>\n",
       "<p>8297 rows × 2 columns</p>\n",
       "</div>"
      ],
      "text/plain": [
       "      home_score  away_score\n",
       "0              0           0\n",
       "1              6           0\n",
       "2              1           1\n",
       "3              1           0\n",
       "4              0           1\n",
       "...          ...         ...\n",
       "8292           0           3\n",
       "8293           1           2\n",
       "8294           2           0\n",
       "8295           0           0\n",
       "8296           3           1\n",
       "\n",
       "[8297 rows x 2 columns]"
      ]
     },
     "execution_count": 29,
     "metadata": {},
     "output_type": "execute_result"
    }
   ],
   "source": [
    "df.select_dtypes(include=['float64','int64'])"
   ]
  },
  {
   "cell_type": "code",
   "execution_count": 30,
   "id": "3269cfc6",
   "metadata": {},
   "outputs": [
    {
     "data": {
      "text/plain": [
       "Index(['date', 'home_team', 'away_team', 'home_score', 'away_score',\n",
       "       'tournament'],\n",
       "      dtype='object')"
      ]
     },
     "execution_count": 30,
     "metadata": {},
     "output_type": "execute_result"
    }
   ],
   "source": [
    "df.columns"
   ]
  },
  {
   "cell_type": "code",
   "execution_count": 39,
   "id": "5f98b212",
   "metadata": {},
   "outputs": [
    {
     "data": {
      "text/plain": [
       "Friendly                                      4038\n",
       "FIFA World Cup qualification                  2474\n",
       "African Cup of Nations qualification           675\n",
       "African Cup of Nations                         261\n",
       "African Nations Championship                   252\n",
       "FIFA World Cup                                 192\n",
       "COSAFA Cup                                     157\n",
       "CECAFA Cup                                     142\n",
       "African Nations Championship qualification      64\n",
       "Arab Cup                                        22\n",
       "Nile Basin Tournament                           14\n",
       "Arab Cup qualification                           6\n",
       "Name: tournament, dtype: int64"
      ]
     },
     "execution_count": 39,
     "metadata": {},
     "output_type": "execute_result"
    }
   ],
   "source": [
    "df['tournament'].value_counts() #This gives the unique value counts in the data set "
   ]
  },
  {
   "cell_type": "code",
   "execution_count": 40,
   "id": "ab382f82",
   "metadata": {},
   "outputs": [
    {
     "data": {
      "text/plain": [
       "date          0\n",
       "home_team     0\n",
       "away_team     0\n",
       "home_score    0\n",
       "away_score    0\n",
       "tournament    0\n",
       "dtype: int64"
      ]
     },
     "execution_count": 40,
     "metadata": {},
     "output_type": "execute_result"
    }
   ],
   "source": [
    "df.isnull().sum()"
   ]
  },
  {
   "cell_type": "code",
   "execution_count": 46,
   "id": "a1968cc3",
   "metadata": {},
   "outputs": [
    {
     "data": {
      "text/plain": [
       "11"
      ]
     },
     "execution_count": 46,
     "metadata": {},
     "output_type": "execute_result"
    }
   ],
   "source": [
    "df.duplicated().sum()"
   ]
  },
  {
   "cell_type": "code",
   "execution_count": 47,
   "id": "054bc518",
   "metadata": {},
   "outputs": [],
   "source": [
    "df=df.drop_duplicates(keep='first')"
   ]
  },
  {
   "cell_type": "code",
   "execution_count": 49,
   "id": "8fab8f59",
   "metadata": {},
   "outputs": [],
   "source": [
    "# If there are any null values we need to drop them \n",
    "#for that the syntax is \n",
    "#df.dropna(inplace=True)"
   ]
  },
  {
   "cell_type": "code",
   "execution_count": 50,
   "id": "9669675b",
   "metadata": {},
   "outputs": [
    {
     "data": {
      "text/html": [
       "<div>\n",
       "<style scoped>\n",
       "    .dataframe tbody tr th:only-of-type {\n",
       "        vertical-align: middle;\n",
       "    }\n",
       "\n",
       "    .dataframe tbody tr th {\n",
       "        vertical-align: top;\n",
       "    }\n",
       "\n",
       "    .dataframe thead th {\n",
       "        text-align: right;\n",
       "    }\n",
       "</style>\n",
       "<table border=\"1\" class=\"dataframe\">\n",
       "  <thead>\n",
       "    <tr style=\"text-align: right;\">\n",
       "      <th></th>\n",
       "      <th>home_score</th>\n",
       "      <th>away_score</th>\n",
       "    </tr>\n",
       "  </thead>\n",
       "  <tbody>\n",
       "    <tr>\n",
       "      <th>count</th>\n",
       "      <td>8286.000000</td>\n",
       "      <td>8286.000000</td>\n",
       "    </tr>\n",
       "    <tr>\n",
       "      <th>mean</th>\n",
       "      <td>1.540430</td>\n",
       "      <td>1.020637</td>\n",
       "    </tr>\n",
       "    <tr>\n",
       "      <th>std</th>\n",
       "      <td>1.531009</td>\n",
       "      <td>1.218123</td>\n",
       "    </tr>\n",
       "    <tr>\n",
       "      <th>min</th>\n",
       "      <td>0.000000</td>\n",
       "      <td>0.000000</td>\n",
       "    </tr>\n",
       "    <tr>\n",
       "      <th>25%</th>\n",
       "      <td>0.000000</td>\n",
       "      <td>0.000000</td>\n",
       "    </tr>\n",
       "    <tr>\n",
       "      <th>50%</th>\n",
       "      <td>1.000000</td>\n",
       "      <td>1.000000</td>\n",
       "    </tr>\n",
       "    <tr>\n",
       "      <th>75%</th>\n",
       "      <td>2.000000</td>\n",
       "      <td>2.000000</td>\n",
       "    </tr>\n",
       "    <tr>\n",
       "      <th>max</th>\n",
       "      <td>15.000000</td>\n",
       "      <td>16.000000</td>\n",
       "    </tr>\n",
       "  </tbody>\n",
       "</table>\n",
       "</div>"
      ],
      "text/plain": [
       "        home_score   away_score\n",
       "count  8286.000000  8286.000000\n",
       "mean      1.540430     1.020637\n",
       "std       1.531009     1.218123\n",
       "min       0.000000     0.000000\n",
       "25%       0.000000     0.000000\n",
       "50%       1.000000     1.000000\n",
       "75%       2.000000     2.000000\n",
       "max      15.000000    16.000000"
      ]
     },
     "execution_count": 50,
     "metadata": {},
     "output_type": "execute_result"
    }
   ],
   "source": [
    "df.describe()"
   ]
  },
  {
   "cell_type": "code",
   "execution_count": 51,
   "id": "4b0157fc",
   "metadata": {},
   "outputs": [
    {
     "name": "stderr",
     "output_type": "stream",
     "text": [
      "C:\\Users\\nvsri\\AppData\\Local\\Temp\\ipykernel_16340\\1928163937.py:1: FutureWarning: The default value of numeric_only in DataFrame.corr is deprecated. In a future version, it will default to False. Select only valid columns or specify the value of numeric_only to silence this warning.\n",
      "  df.corr(method='pearson')\n"
     ]
    },
    {
     "data": {
      "text/html": [
       "<div>\n",
       "<style scoped>\n",
       "    .dataframe tbody tr th:only-of-type {\n",
       "        vertical-align: middle;\n",
       "    }\n",
       "\n",
       "    .dataframe tbody tr th {\n",
       "        vertical-align: top;\n",
       "    }\n",
       "\n",
       "    .dataframe thead th {\n",
       "        text-align: right;\n",
       "    }\n",
       "</style>\n",
       "<table border=\"1\" class=\"dataframe\">\n",
       "  <thead>\n",
       "    <tr style=\"text-align: right;\">\n",
       "      <th></th>\n",
       "      <th>home_score</th>\n",
       "      <th>away_score</th>\n",
       "    </tr>\n",
       "  </thead>\n",
       "  <tbody>\n",
       "    <tr>\n",
       "      <th>home_score</th>\n",
       "      <td>1.000000</td>\n",
       "      <td>-0.158138</td>\n",
       "    </tr>\n",
       "    <tr>\n",
       "      <th>away_score</th>\n",
       "      <td>-0.158138</td>\n",
       "      <td>1.000000</td>\n",
       "    </tr>\n",
       "  </tbody>\n",
       "</table>\n",
       "</div>"
      ],
      "text/plain": [
       "            home_score  away_score\n",
       "home_score    1.000000   -0.158138\n",
       "away_score   -0.158138    1.000000"
      ]
     },
     "execution_count": 51,
     "metadata": {},
     "output_type": "execute_result"
    }
   ],
   "source": [
    "df.corr(method='pearson')"
   ]
  },
  {
   "cell_type": "code",
   "execution_count": 52,
   "id": "c58ec2e8",
   "metadata": {},
   "outputs": [
    {
     "data": {
      "text/plain": [
       "array(['Qatar', 'Syria', 'Angola', 'Egypt', 'Tanzania', 'Ghana', 'Benin',\n",
       "       'Gabon', 'Rwanda', 'Kenya', 'Tunisia', 'Zambia', 'Ivory Coast',\n",
       "       'Malawi', 'Mozambique', 'Cameroon', 'Mali', 'Yemen', 'Nigeria',\n",
       "       'Finland', 'Burkina Faso', 'Chile', 'Oman', 'Latvia',\n",
       "       'United States', 'Argentina', 'South Africa', 'Algeria', 'Jamaica',\n",
       "       'Japan', 'Kuwait', 'Mexico', 'Jordan', 'Malaysia', 'Guadeloupe',\n",
       "       'Republic of Ireland', 'Albania', 'Armenia', 'Austria', 'Belgium',\n",
       "       'Bosnia and Herzegovina', 'Cyprus', 'El Salvador', 'England',\n",
       "       'France', 'Georgia', 'Germany', 'Greece', 'Hungary', 'Italy',\n",
       "       'Kazakhstan', 'Libya', 'Luxembourg', 'North Macedonia', 'Malta',\n",
       "       'Netherlands', 'Poland', 'Portugal', 'Romania', 'Scotland',\n",
       "       'Slovakia', 'Slovenia', 'Switzerland', 'Turkey', 'Venezuela',\n",
       "       'Wales', 'Zimbabwe', 'Niger', 'Iceland', 'Namibia', 'Martinique',\n",
       "       'Paraguay', 'Saint Kitts and Nevis', 'Honduras', 'South Korea',\n",
       "       'Corsica', 'Aruba', 'DR Congo', 'Estonia', 'Brittany', 'Croatia',\n",
       "       'Australia', 'Montenegro', 'Ukraine', 'Azerbaijan',\n",
       "       'Northern Ireland', 'Uruguay', 'Belarus', 'Denmark', 'Moldova',\n",
       "       'New Zealand', 'Norway', 'Spain', 'Sweden', 'Grenada', 'Serbia',\n",
       "       'Sudan', 'Brazil', 'Northern Mariana Islands', 'North Korea',\n",
       "       'China PR', 'Chad', 'Botswana', 'Togo', 'Anguilla', 'Bolivia',\n",
       "       'Czech Republic', 'Lithuania', 'Mauritania', 'Morocco', 'Panama',\n",
       "       'Russia', 'Saudi Arabia', 'Senegal', 'Thailand',\n",
       "       'Trinidad and Tobago', 'Uganda', 'Ethiopia', 'Madagascar',\n",
       "       'Saint Lucia', 'Canada', 'Guatemala', 'Cape Verde',\n",
       "       'Guinea-Bissau', 'Mauritius', 'Liberia', 'Eswatini', 'Bahrain',\n",
       "       'United Arab Emirates', 'India', 'Belize', 'French Guiana',\n",
       "       'Antigua and Barbuda', 'Saint Martin', 'Iraq', 'Réunion',\n",
       "       'Vietnam', 'Mayotte', 'Barbados', 'Guyana', 'New Caledonia',\n",
       "       'Iran', 'Colombia', 'Indonesia', 'Peru', 'Burundi', 'Comoros',\n",
       "       'Central African Republic', 'Congo', 'Guinea', 'Sierra Leone',\n",
       "       'Bulgaria', 'Costa Rica', 'Ecuador', 'Equatorial Guinea',\n",
       "       'Hong Kong', 'Israel', 'Tajikistan', 'Singapore', 'Zanzibar',\n",
       "       'Catalonia', 'Basque Country', 'Vanuatu', 'Andorra', 'San Marino',\n",
       "       'Gibraltar', 'Nepal', 'Cuba', 'Sri Lanka', 'Tahiti', 'Monaco',\n",
       "       'Palestine', 'Montserrat', 'Afghanistan', 'Bangladesh', 'Cambodia',\n",
       "       'Mongolia', 'Lebanon', 'Turks and Caicos Islands', 'Myanmar',\n",
       "       'Laos', 'Macau', 'Pakistan', 'Philippines',\n",
       "       'United States Virgin Islands', 'Solomon Islands',\n",
       "       'Dominican Republic', 'Bahamas', 'Maldives',\n",
       "       'British Virgin Islands', 'Fiji', 'Turkmenistan', 'Uzbekistan',\n",
       "       'Kyrgyzstan', 'Gambia', 'Liechtenstein', 'Eritrea', 'Lesotho',\n",
       "       'Tuvalu', 'Dominica', 'Haiti', 'Suriname', 'Cayman Islands',\n",
       "       'Curaçao', 'Nicaragua', 'Puerto Rico',\n",
       "       'Saint Vincent and the Grenadines', 'Bermuda', 'Djibouti',\n",
       "       'São Tomé and Príncipe', 'Seychelles', 'Somalia', 'South Sudan',\n",
       "       'Abkhazia', 'Saint Pierre and Miquelon', 'Faroe Islands',\n",
       "       'Artsakh', 'Guam', 'Madrid', 'Kosovo', 'Vatican City',\n",
       "       'Timor-Leste', 'Bhutan', 'Brunei', 'Sint Maarten', 'Galicia',\n",
       "       'Papua New Guinea', 'Taiwan', 'Yorkshire', 'Barawa',\n",
       "       'Parishes of Jersey', 'Kernow', 'Cascadia', 'Ynys Môn',\n",
       "       'Cook Islands', 'Brunei Darussalam', 'russia', 'united states',\n",
       "       'Comoros ', 'sao tome and Principe', 'iran'], dtype=object)"
      ]
     },
     "execution_count": 52,
     "metadata": {},
     "output_type": "execute_result"
    }
   ],
   "source": [
    "df['home_team'].unique()"
   ]
  },
  {
   "cell_type": "code",
   "execution_count": 55,
   "id": "f46f3aa2",
   "metadata": {},
   "outputs": [
    {
     "data": {
      "text/plain": [
       "['date', 'home_team', 'away_team', 'home_score', 'away_score', 'tournament']"
      ]
     },
     "execution_count": 55,
     "metadata": {},
     "output_type": "execute_result"
    }
   ],
   "source": [
    "list(df.columns)"
   ]
  },
  {
   "cell_type": "code",
   "execution_count": 58,
   "id": "4d9595a6",
   "metadata": {},
   "outputs": [
    {
     "data": {
      "text/html": [
       "<div>\n",
       "<style scoped>\n",
       "    .dataframe tbody tr th:only-of-type {\n",
       "        vertical-align: middle;\n",
       "    }\n",
       "\n",
       "    .dataframe tbody tr th {\n",
       "        vertical-align: top;\n",
       "    }\n",
       "\n",
       "    .dataframe thead th {\n",
       "        text-align: right;\n",
       "    }\n",
       "</style>\n",
       "<table border=\"1\" class=\"dataframe\">\n",
       "  <thead>\n",
       "    <tr style=\"text-align: right;\">\n",
       "      <th></th>\n",
       "      <th>home_score</th>\n",
       "      <th>away_score</th>\n",
       "    </tr>\n",
       "  </thead>\n",
       "  <tbody>\n",
       "    <tr>\n",
       "      <th>0</th>\n",
       "      <td>0</td>\n",
       "      <td>0</td>\n",
       "    </tr>\n",
       "    <tr>\n",
       "      <th>1</th>\n",
       "      <td>6</td>\n",
       "      <td>0</td>\n",
       "    </tr>\n",
       "    <tr>\n",
       "      <th>2</th>\n",
       "      <td>1</td>\n",
       "      <td>1</td>\n",
       "    </tr>\n",
       "    <tr>\n",
       "      <th>3</th>\n",
       "      <td>1</td>\n",
       "      <td>0</td>\n",
       "    </tr>\n",
       "    <tr>\n",
       "      <th>4</th>\n",
       "      <td>0</td>\n",
       "      <td>1</td>\n",
       "    </tr>\n",
       "    <tr>\n",
       "      <th>...</th>\n",
       "      <td>...</td>\n",
       "      <td>...</td>\n",
       "    </tr>\n",
       "    <tr>\n",
       "      <th>8292</th>\n",
       "      <td>0</td>\n",
       "      <td>3</td>\n",
       "    </tr>\n",
       "    <tr>\n",
       "      <th>8293</th>\n",
       "      <td>1</td>\n",
       "      <td>2</td>\n",
       "    </tr>\n",
       "    <tr>\n",
       "      <th>8294</th>\n",
       "      <td>2</td>\n",
       "      <td>0</td>\n",
       "    </tr>\n",
       "    <tr>\n",
       "      <th>8295</th>\n",
       "      <td>0</td>\n",
       "      <td>0</td>\n",
       "    </tr>\n",
       "    <tr>\n",
       "      <th>8296</th>\n",
       "      <td>3</td>\n",
       "      <td>1</td>\n",
       "    </tr>\n",
       "  </tbody>\n",
       "</table>\n",
       "<p>8286 rows × 2 columns</p>\n",
       "</div>"
      ],
      "text/plain": [
       "      home_score  away_score\n",
       "0              0           0\n",
       "1              6           0\n",
       "2              1           1\n",
       "3              1           0\n",
       "4              0           1\n",
       "...          ...         ...\n",
       "8292           0           3\n",
       "8293           1           2\n",
       "8294           2           0\n",
       "8295           0           0\n",
       "8296           3           1\n",
       "\n",
       "[8286 rows x 2 columns]"
      ]
     },
     "execution_count": 58,
     "metadata": {},
     "output_type": "execute_result"
    }
   ],
   "source": [
    "df.select_dtypes(['number','datetime64'])"
   ]
  },
  {
   "cell_type": "code",
   "execution_count": 59,
   "id": "4c937c09",
   "metadata": {},
   "outputs": [
    {
     "data": {
      "text/plain": [
       "Index(['date', 'home_team', 'away_team', 'home_score', 'away_score',\n",
       "       'tournament'],\n",
       "      dtype='object')"
      ]
     },
     "execution_count": 59,
     "metadata": {},
     "output_type": "execute_result"
    }
   ],
   "source": [
    "df.columns"
   ]
  },
  {
   "cell_type": "code",
   "execution_count": 60,
   "id": "b0896b61",
   "metadata": {},
   "outputs": [],
   "source": [
    "df['date']=pd.to_datetime(df['date'])"
   ]
  },
  {
   "cell_type": "code",
   "execution_count": 61,
   "id": "3f09529d",
   "metadata": {},
   "outputs": [
    {
     "data": {
      "text/html": [
       "<div>\n",
       "<style scoped>\n",
       "    .dataframe tbody tr th:only-of-type {\n",
       "        vertical-align: middle;\n",
       "    }\n",
       "\n",
       "    .dataframe tbody tr th {\n",
       "        vertical-align: top;\n",
       "    }\n",
       "\n",
       "    .dataframe thead th {\n",
       "        text-align: right;\n",
       "    }\n",
       "</style>\n",
       "<table border=\"1\" class=\"dataframe\">\n",
       "  <thead>\n",
       "    <tr style=\"text-align: right;\">\n",
       "      <th></th>\n",
       "      <th>date</th>\n",
       "      <th>home_team</th>\n",
       "      <th>away_team</th>\n",
       "      <th>home_score</th>\n",
       "      <th>away_score</th>\n",
       "      <th>tournament</th>\n",
       "    </tr>\n",
       "  </thead>\n",
       "  <tbody>\n",
       "    <tr>\n",
       "      <th>0</th>\n",
       "      <td>2010-01-02</td>\n",
       "      <td>Qatar</td>\n",
       "      <td>Mali</td>\n",
       "      <td>0</td>\n",
       "      <td>0</td>\n",
       "      <td>Friendly</td>\n",
       "    </tr>\n",
       "    <tr>\n",
       "      <th>1</th>\n",
       "      <td>2010-01-02</td>\n",
       "      <td>Syria</td>\n",
       "      <td>Zimbabwe</td>\n",
       "      <td>6</td>\n",
       "      <td>0</td>\n",
       "      <td>Friendly</td>\n",
       "    </tr>\n",
       "    <tr>\n",
       "      <th>2</th>\n",
       "      <td>2010-01-03</td>\n",
       "      <td>Angola</td>\n",
       "      <td>Gambia</td>\n",
       "      <td>1</td>\n",
       "      <td>1</td>\n",
       "      <td>Friendly</td>\n",
       "    </tr>\n",
       "    <tr>\n",
       "      <th>3</th>\n",
       "      <td>2010-01-04</td>\n",
       "      <td>Egypt</td>\n",
       "      <td>Mali</td>\n",
       "      <td>1</td>\n",
       "      <td>0</td>\n",
       "      <td>Friendly</td>\n",
       "    </tr>\n",
       "    <tr>\n",
       "      <th>4</th>\n",
       "      <td>2010-01-04</td>\n",
       "      <td>Tanzania</td>\n",
       "      <td>Ivory Coast</td>\n",
       "      <td>0</td>\n",
       "      <td>1</td>\n",
       "      <td>Friendly</td>\n",
       "    </tr>\n",
       "    <tr>\n",
       "      <th>...</th>\n",
       "      <td>...</td>\n",
       "      <td>...</td>\n",
       "      <td>...</td>\n",
       "      <td>...</td>\n",
       "      <td>...</td>\n",
       "      <td>...</td>\n",
       "    </tr>\n",
       "    <tr>\n",
       "      <th>8292</th>\n",
       "      <td>2024-01-10</td>\n",
       "      <td>Bahrain</td>\n",
       "      <td>Angola</td>\n",
       "      <td>0</td>\n",
       "      <td>3</td>\n",
       "      <td>Friendly</td>\n",
       "    </tr>\n",
       "    <tr>\n",
       "      <th>8293</th>\n",
       "      <td>2024-01-10</td>\n",
       "      <td>DR Congo</td>\n",
       "      <td>Burkina Faso</td>\n",
       "      <td>1</td>\n",
       "      <td>2</td>\n",
       "      <td>Friendly</td>\n",
       "    </tr>\n",
       "    <tr>\n",
       "      <th>8294</th>\n",
       "      <td>2024-01-10</td>\n",
       "      <td>Tunisia</td>\n",
       "      <td>Cape Verde</td>\n",
       "      <td>2</td>\n",
       "      <td>0</td>\n",
       "      <td>Friendly</td>\n",
       "    </tr>\n",
       "    <tr>\n",
       "      <th>8295</th>\n",
       "      <td>2024-01-10</td>\n",
       "      <td>South Africa</td>\n",
       "      <td>Lesotho</td>\n",
       "      <td>0</td>\n",
       "      <td>0</td>\n",
       "      <td>Friendly</td>\n",
       "    </tr>\n",
       "    <tr>\n",
       "      <th>8296</th>\n",
       "      <td>2024-01-11</td>\n",
       "      <td>Morocco</td>\n",
       "      <td>Sierra Leone</td>\n",
       "      <td>3</td>\n",
       "      <td>1</td>\n",
       "      <td>Friendly</td>\n",
       "    </tr>\n",
       "  </tbody>\n",
       "</table>\n",
       "<p>8286 rows × 6 columns</p>\n",
       "</div>"
      ],
      "text/plain": [
       "           date     home_team     away_team  home_score  away_score tournament\n",
       "0    2010-01-02         Qatar          Mali           0           0   Friendly\n",
       "1    2010-01-02         Syria      Zimbabwe           6           0   Friendly\n",
       "2    2010-01-03        Angola        Gambia           1           1   Friendly\n",
       "3    2010-01-04         Egypt          Mali           1           0   Friendly\n",
       "4    2010-01-04      Tanzania   Ivory Coast           0           1   Friendly\n",
       "...         ...           ...           ...         ...         ...        ...\n",
       "8292 2024-01-10       Bahrain        Angola           0           3   Friendly\n",
       "8293 2024-01-10      DR Congo  Burkina Faso           1           2   Friendly\n",
       "8294 2024-01-10       Tunisia    Cape Verde           2           0   Friendly\n",
       "8295 2024-01-10  South Africa       Lesotho           0           0   Friendly\n",
       "8296 2024-01-11       Morocco  Sierra Leone           3           1   Friendly\n",
       "\n",
       "[8286 rows x 6 columns]"
      ]
     },
     "execution_count": 61,
     "metadata": {},
     "output_type": "execute_result"
    }
   ],
   "source": [
    "df"
   ]
  },
  {
   "cell_type": "code",
   "execution_count": 64,
   "id": "03d2d55f",
   "metadata": {},
   "outputs": [
    {
     "data": {
      "image/png": "[encoded data removed]",
      "text/plain": [
       "<Figure size 640x480 with 1 Axes>"
      ]
     },
     "metadata": {},
     "output_type": "display_data"
    }
   ],
   "source": [
    "x=df['date']\n",
    "y=df['home_score']\n",
    "y1=df['away_score']\n",
    "plt.bar(x,y,label='Home Score',color='green')\n",
    "plt.bar(x,y1,label='Away Score',color='blue')\n",
    "plt.xlabel='Date'\n",
    "plt.ylabel='score'\n",
    "plt.legend()\n",
    "plt.show()"
   ]
  },
  {
   "cell_type": "code",
   "execution_count": 72,
   "id": "e6ff124d",
   "metadata": {},
   "outputs": [
    {
     "data": {
      "text/plain": [
       "Index(['date', 'home_team', 'away_team', 'home_score', 'away_score',\n",
       "       'tournament'],\n",
       "      dtype='object')"
      ]
     },
     "execution_count": 72,
     "metadata": {},
     "output_type": "execute_result"
    }
   ],
   "source": [
    "df.columns"
   ]
  },
  {
   "cell_type": "code",
   "execution_count": 76,
   "id": "a604330c",
   "metadata": {},
   "outputs": [
    {
     "data": {
      "text/plain": [
       "South Africa    111\n",
       "Mexico          100\n",
       "Morocco          94\n",
       "Egypt            93\n",
       "Qatar            92\n",
       "               ... \n",
       "Galicia           1\n",
       "Madrid            1\n",
       "Tuvalu            1\n",
       "Artsakh           1\n",
       "iran              1\n",
       "Name: home_team, Length: 241, dtype: int64"
      ]
     },
     "execution_count": 76,
     "metadata": {},
     "output_type": "execute_result"
    }
   ],
   "source": [
    "k=df['home_team'].value_counts()\n",
    "k"
   ]
  },
  {
   "cell_type": "code",
   "execution_count": 78,
   "id": "bcd8a74c",
   "metadata": {},
   "outputs": [
    {
     "data": {
      "text/plain": [
       "array(['Qatar', 'Syria', 'Angola', 'Egypt', 'Tanzania', 'Ghana', 'Benin',\n",
       "       'Gabon', 'Rwanda', 'Kenya', 'Tunisia', 'Zambia', 'Ivory Coast',\n",
       "       'Malawi', 'Mozambique', 'Cameroon', 'Mali', 'Yemen', 'Nigeria',\n",
       "       'Finland', 'Burkina Faso', 'Chile', 'Oman', 'Latvia',\n",
       "       'United States', 'Argentina', 'South Africa', 'Algeria', 'Jamaica',\n",
       "       'Japan', 'Kuwait', 'Mexico', 'Jordan', 'Malaysia', 'Guadeloupe',\n",
       "       'Republic of Ireland', 'Albania', 'Armenia', 'Austria', 'Belgium',\n",
       "       'Bosnia and Herzegovina', 'Cyprus', 'El Salvador', 'England',\n",
       "       'France', 'Georgia', 'Germany', 'Greece', 'Hungary', 'Italy',\n",
       "       'Kazakhstan', 'Libya', 'Luxembourg', 'North Macedonia', 'Malta',\n",
       "       'Netherlands', 'Poland', 'Portugal', 'Romania', 'Scotland',\n",
       "       'Slovakia', 'Slovenia', 'Switzerland', 'Turkey', 'Venezuela',\n",
       "       'Wales', 'Zimbabwe', 'Niger', 'Iceland', 'Namibia', 'Martinique',\n",
       "       'Paraguay', 'Saint Kitts and Nevis', 'Honduras', 'South Korea',\n",
       "       'Corsica', 'Aruba', 'DR Congo', 'Estonia', 'Brittany', 'Croatia',\n",
       "       'Australia', 'Montenegro', 'Ukraine', 'Azerbaijan',\n",
       "       'Northern Ireland', 'Uruguay', 'Belarus', 'Denmark', 'Moldova',\n",
       "       'New Zealand', 'Norway', 'Spain', 'Sweden', 'Grenada', 'Serbia',\n",
       "       'Sudan', 'Brazil', 'Northern Mariana Islands', 'North Korea',\n",
       "       'China PR', 'Chad', 'Botswana', 'Togo', 'Anguilla', 'Bolivia',\n",
       "       'Czech Republic', 'Lithuania', 'Mauritania', 'Morocco', 'Panama',\n",
       "       'Russia', 'Saudi Arabia', 'Senegal', 'Thailand',\n",
       "       'Trinidad and Tobago', 'Uganda', 'Ethiopia', 'Madagascar',\n",
       "       'Saint Lucia', 'Canada', 'Guatemala', 'Cape Verde',\n",
       "       'Guinea-Bissau', 'Mauritius', 'Liberia', 'Eswatini', 'Bahrain',\n",
       "       'United Arab Emirates', 'India', 'Belize', 'French Guiana',\n",
       "       'Antigua and Barbuda', 'Saint Martin', 'Iraq', 'Réunion',\n",
       "       'Vietnam', 'Mayotte', 'Barbados', 'Guyana', 'New Caledonia',\n",
       "       'Iran', 'Colombia', 'Indonesia', 'Peru', 'Burundi', 'Comoros',\n",
       "       'Central African Republic', 'Congo', 'Guinea', 'Sierra Leone',\n",
       "       'Bulgaria', 'Costa Rica', 'Ecuador', 'Equatorial Guinea',\n",
       "       'Hong Kong', 'Israel', 'Tajikistan', 'Singapore', 'Zanzibar',\n",
       "       'Catalonia', 'Basque Country', 'Vanuatu', 'Andorra', 'San Marino',\n",
       "       'Gibraltar', 'Nepal', 'Cuba', 'Sri Lanka', 'Tahiti', 'Monaco',\n",
       "       'Palestine', 'Montserrat', 'Afghanistan', 'Bangladesh', 'Cambodia',\n",
       "       'Mongolia', 'Lebanon', 'Turks and Caicos Islands', 'Myanmar',\n",
       "       'Laos', 'Macau', 'Pakistan', 'Philippines',\n",
       "       'United States Virgin Islands', 'Solomon Islands',\n",
       "       'Dominican Republic', 'Bahamas', 'Maldives',\n",
       "       'British Virgin Islands', 'Fiji', 'Turkmenistan', 'Uzbekistan',\n",
       "       'Kyrgyzstan', 'Gambia', 'Liechtenstein', 'Eritrea', 'Lesotho',\n",
       "       'Tuvalu', 'Dominica', 'Haiti', 'Suriname', 'Cayman Islands',\n",
       "       'Curaçao', 'Nicaragua', 'Puerto Rico',\n",
       "       'Saint Vincent and the Grenadines', 'Bermuda', 'Djibouti',\n",
       "       'São Tomé and Príncipe', 'Seychelles', 'Somalia', 'South Sudan',\n",
       "       'Abkhazia', 'Saint Pierre and Miquelon', 'Faroe Islands',\n",
       "       'Artsakh', 'Guam', 'Madrid', 'Kosovo', 'Vatican City',\n",
       "       'Timor-Leste', 'Bhutan', 'Brunei', 'Sint Maarten', 'Galicia',\n",
       "       'Papua New Guinea', 'Taiwan', 'Yorkshire', 'Barawa',\n",
       "       'Parishes of Jersey', 'Kernow', 'Cascadia', 'Ynys Môn',\n",
       "       'Cook Islands', 'Brunei Darussalam', 'russia', 'united states',\n",
       "       'Comoros ', 'sao tome and Principe', 'iran'], dtype=object)"
      ]
     },
     "execution_count": 78,
     "metadata": {},
     "output_type": "execute_result"
    }
   ],
   "source": [
    "df['home_team'].unique()"
   ]
  },
  {
   "cell_type": "code",
   "execution_count": 88,
   "id": "cb60858c",
   "metadata": {},
   "outputs": [
    {
     "data": {
      "text/plain": [
       "(array([537., 570., 406., 598., 375., 378., 364., 362., 342., 276., 329.,\n",
       "        291., 333., 359., 404., 318., 219., 243., 290., 281., 138., 118.,\n",
       "        153.,  97., 196.,  95., 120.,  57.,  27.,  10.]),\n",
       " array([  0.,   8.,  16.,  24.,  32.,  40.,  48.,  56.,  64.,  72.,  80.,\n",
       "         88.,  96., 104., 112., 120., 128., 136., 144., 152., 160., 168.,\n",
       "        176., 184., 192., 200., 208., 216., 224., 232., 240.]),\n",
       " <BarContainer object of 30 artists>)"
      ]
     },
     "execution_count": 88,
     "metadata": {},
     "output_type": "execute_result"
    },
    {
     "data": {
      "image/png": "[encoded data removed]",
      "text/plain": [
       "<Figure size 640x480 with 1 Axes>"
      ]
     },
     "metadata": {},
     "output_type": "display_data"
    }
   ],
   "source": [
    "plt.hist(df['home_team'], bins=30, edgecolor='black')\n"
   ]
  },
  {
   "cell_type": "code",
   "execution_count": 89,
   "id": "a0354495",
   "metadata": {},
   "outputs": [
    {
     "data": {
      "text/plain": [
       "Index(['date', 'home_team', 'away_team', 'home_score', 'away_score',\n",
       "       'tournament'],\n",
       "      dtype='object')"
      ]
     },
     "execution_count": 89,
     "metadata": {},
     "output_type": "execute_result"
    }
   ],
   "source": [
    "df.columns"
   ]
  },
  {
   "cell_type": "code",
   "execution_count": 91,
   "id": "c52a61a8",
   "metadata": {},
   "outputs": [
    {
     "data": {
      "image/png": "[encoded data removed]",
      "text/plain": [
       "<Figure size 640x480 with 1 Axes>"
      ]
     },
     "metadata": {},
     "output_type": "display_data"
    }
   ],
   "source": [
    "s=df['date']\n",
    "k=df['home_score']\n",
    "plt.plot(s,k,'green')\n",
    "\n",
    "plt.show()"
   ]
  },
  {
   "cell_type": "code",
   "execution_count": 92,
   "id": "e5b1660c",
   "metadata": {},
   "outputs": [
    {
     "data": {
      "text/plain": [
       "<matplotlib.collections.PathCollection at 0x2cb0062e9b0>"
      ]
     },
     "execution_count": 92,
     "metadata": {},
     "output_type": "execute_result"
    },
    {
     "data": {
      "image/png": "[encoded data removed]",
      "text/plain": [
       "<Figure size 640x480 with 1 Axes>"
      ]
     },
     "metadata": {},
     "output_type": "display_data"
    }
   ],
   "source": [
    "plt.scatter(s,k,color='blue')"
   ]
  },
  {
   "cell_type": "code",
   "execution_count": null,
   "id": "f11cb24c",
   "metadata": {},
   "outputs": [],
   "source": []
  }
 ],
 "metadata": {
  "kernelspec": {
   "display_name": "Python 3 (ipykernel)",
   "language": "python",
   "name": "python3"
  },
  "language_info": {
   "codemirror_mode": {
    "name": "ipython",
    "version": 3
   },
   "file_extension": ".py",
   "mimetype": "text/x-python",
   "name": "python",
   "nbconvert_exporter": "python",
   "pygments_lexer": "ipython3",
   "version": "3.10.9"
  }
 },
 "nbformat": 4,
 "nbformat_minor": 5
}
