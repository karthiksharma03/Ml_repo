{
 "cells": [
  {
   "cell_type": "markdown",
   "id": "12ca11de",
   "metadata": {},
   "source": [
    "# Creating The Neural Networks Using Python :"
   ]
  },
  {
   "cell_type": "raw",
   "id": "52ba0647",
   "metadata": {},
   "source": [
    "# Here the neural network which has been created consits of :\n",
    "\n",
    "-> An input layer \n",
    "-> A single Hidden Layer \n",
    "-> An Output Layer \n",
    "\n",
    "And here we are creating the ANN Single Layered Neural Network which contains 2 Inputs \n",
    "\n",
    "So here we are just creating an Single Layerd Neural Network without The activation Function \n"
   ]
  },
  {
   "cell_type": "raw",
   "id": "3a52657b",
   "metadata": {},
   "source": [
    ".....Create an ANN with 3 Layers \n",
    "\n",
    "Input Layer --> contains 2 layers (x0,x1);\n",
    "\n",
    "Hidden Layer --> Contains 2 nodes (x2,x3);\n",
    "\n",
    "Output Layer --> Contains 1 Node (x4);"
   ]
  },
  {
   "cell_type": "code",
   "execution_count": 3,
   "id": "f09d07e8",
   "metadata": {},
   "outputs": [],
   "source": [
    "import numpy as np\n",
    "\n",
    "Weights={\n",
    "    'x2':np.array([1,1]),\n",
    "    'x3':np.array([-1,1]),\n",
    "    'x4':np.array([2,-1])\n",
    "}\n",
    "\n",
    "#Creating the Random weights for the hidden layer and for the output function in the process of the dl\n",
    "\n",
    "data=np.array([2,3])\n",
    "\n",
    "x0=data[0]\n",
    "x1=data[1]"
   ]
  },
  {
   "cell_type": "code",
   "execution_count": 4,
   "id": "5ef9b9da",
   "metadata": {},
   "outputs": [
    {
     "name": "stdout",
     "output_type": "stream",
     "text": [
      "The input Layer = [2 3]\n"
     ]
    }
   ],
   "source": [
    "#Creating the input layers with the given nodes \n",
    "\n",
    "input_layer=np.array([x0,x1])\n",
    "\n",
    "print(\"The input Layer =\",input_layer)"
   ]
  },
  {
   "cell_type": "code",
   "execution_count": 5,
   "id": "9b4eeddd",
   "metadata": {},
   "outputs": [
    {
     "name": "stdout",
     "output_type": "stream",
     "text": [
      "The hiddenn layer is  [5 1]\n"
     ]
    }
   ],
   "source": [
    "#Creating the Hidden Layer \n",
    "\n",
    "#The Nodes we recive in is  based on the formulae\n",
    "\n",
    "# sum of(inputs *weight of hidden layer )\n",
    "\n",
    "x2=(input_layer *Weights['x2']).sum()\n",
    "\n",
    "# So the value of the s2 will be (2*1) + (3*1)=5\n",
    "\n",
    "x3=(input_layer *Weights['x3']).sum()\n",
    "\n",
    "# so the value of the x3 will be (2*1)-(3*1) = 1\n",
    "\n",
    "hidden_layer=np.array([x2,x3])\n",
    "\n",
    "print(\"The hiddenn layer is \",hidden_layer)\n"
   ]
  },
  {
   "cell_type": "code",
   "execution_count": 6,
   "id": "0f4275be",
   "metadata": {},
   "outputs": [
    {
     "name": "stdout",
     "output_type": "stream",
     "text": [
      "The output layer  is : [9]\n"
     ]
    }
   ],
   "source": [
    "# Let us create and calculate the final output layer \n",
    "\n",
    "# again the same formulae \n",
    "\n",
    "# sum of(hidden layer * weights of output layer )\n",
    "\n",
    "x4=(hidden_layer *Weights['x4']).sum()\n",
    "\n",
    "#The output is gonna be (5*2)-(1*1) =9\n",
    "\n",
    "Output_layer=np.array([x4])\n",
    "\n",
    "print(\"The output layer  is :\",Output_layer)"
   ]
  },
  {
   "cell_type": "code",
   "execution_count": 12,
   "id": "a3ca6498",
   "metadata": {},
   "outputs": [
    {
     "name": "stdout",
     "output_type": "stream",
     "text": [
      "Input Layer: [2 3]\n",
      "Hidden Layer: [5 1]\n",
      "Output Layer: [9] \n",
      "\n",
      "Input Layer --> Hidden Layer --> Output Layer\n"
     ]
    }
   ],
   "source": [
    "#This is the flow where the single layerd neural network works and this is how it has been implemented \n",
    "\n",
    "print(\"Input Layer:\", data)\n",
    "print(\"Hidden Layer:\", hidden_layer)\n",
    "print(\"Output Layer:\", Output_layer,\"\\n\")\n",
    "print(\"Input Layer --> Hidden Layer --> Output Layer\")\n"
   ]
  },
  {
   "cell_type": "code",
   "execution_count": null,
   "id": "db7e3264",
   "metadata": {},
   "outputs": [],
   "source": []
  }
 ],
 "metadata": {
  "kernelspec": {
   "display_name": "Python 3 (ipykernel)",
   "language": "python",
   "name": "python3"
  },
  "language_info": {
   "codemirror_mode": {
    "name": "ipython",
    "version": 3
   },
   "file_extension": ".py",
   "mimetype": "text/x-python",
   "name": "python",
   "nbconvert_exporter": "python",
   "pygments_lexer": "ipython3",
   "version": "3.10.9"
  }
 },
 "nbformat": 4,
 "nbformat_minor": 5
}
